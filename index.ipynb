{
 "cells": [
  {
   "cell_type": "markdown",
   "metadata": {},
   "source": [
    "## Introduction to Programming in Python\n",
    "\n",
    "In this short introduction, I'll introduce you to the basics of programming, using the Python programming language.  By the end of it, you should hopefully be able to write your own PoS-tagger.\n",
    "\n",
    "You can think of a program as a series of instructions for the computer, which it will follow one after the other.  When the computer runs the program, it will create objects and manipulate them, according to our instructions.  For example, we could tell it to create some objects representing numbers, add them together, then show us ('print') the result."
   ]
  },
  {
   "cell_type": "code",
   "execution_count": null,
   "metadata": {
    "collapsed": true
   },
   "outputs": [],
   "source": [
    "a = 3\n",
    "b = 5\n",
    "c = a + b\n",
    "print(c)"
   ]
  }
 ],
 "metadata": {
  "anaconda-cloud": {},
  "kernelspec": {
   "display_name": "Python [Root]",
   "language": "python",
   "name": "Python [Root]"
  },
  "language_info": {
   "codemirror_mode": {
    "name": "ipython",
    "version": 3
   },
   "file_extension": ".py",
   "mimetype": "text/x-python",
   "name": "python",
   "nbconvert_exporter": "python",
   "pygments_lexer": "ipython3",
   "version": "3.5.2"
  }
 },
 "nbformat": 4,
 "nbformat_minor": 0
}
